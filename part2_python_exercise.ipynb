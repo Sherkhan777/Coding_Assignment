{
 "cells": [
  {
   "cell_type": "markdown",
   "id": "f899b2a8",
   "metadata": {},
   "source": [
    "# Random Exercises\n",
    "\n",
    "### Tasks 2 and 4\n",
    "\n",
    "\n",
    "The following dictionaries Dweight and Dheight contain the weight in kilograms and height in meters of a collection of people.\n",
    "The following code creates a list of names that is sorted based body mass index (weight/height^2)."
   ]
  },
  {
   "cell_type": "code",
   "execution_count": 6,
   "id": "f9791655",
   "metadata": {},
   "outputs": [],
   "source": [
    "Dweight = {\"Bob\": 70, \"Jaba the Hutt\": 1358,  \"Mata Hari\": 65,  \"Genghis Khan\": 75,\"Alice\": 60,  \"Papa Smurf\": .2}\n",
    "Dheight = {\"Alice\": 1.7, \"Mata Hari\": 1.65, \"Bob\": 1.80, \"Genghis Khan\": 1.65,\"Jaba the Hutt\": 1.75, \"Papa Smurf\": .07}"
   ]
  },
  {
   "cell_type": "code",
   "execution_count": 10,
   "id": "6c3e971d",
   "metadata": {},
   "outputs": [
    {
     "name": "stdout",
     "output_type": "stream",
     "text": [
      "['Alice', 'Bob', 'Mata Hari', 'Genghis Khan', 'Papa Smurf', 'Jaba the Hutt']\n"
     ]
    }
   ],
   "source": [
    "Dbmi = {key: Dweight[key]/(Dheight[key]**2) for key in Dweight}\n",
    "\n",
    "bmi = []\n",
    "for key in Dbmi:\n",
    "    bmi.append([key, Dbmi[key]])\n",
    "    \n",
    "from operator import itemgetter\n",
    "sorted_bmi = []\n",
    "for i in range(len(bmi)):\n",
    "    sorted_bmi.append(sorted(bmi, key=itemgetter(1))[i][0])\n",
    "print(sorted_bmi)"
   ]
  },
  {
   "cell_type": "markdown",
   "id": "624891ec",
   "metadata": {},
   "source": [
    "### Task 3 \n",
    "\n",
    "The following function takes a list of numbers as input, adds three to all of its elements and returns this new list."
   ]
  },
  {
   "cell_type": "code",
   "execution_count": 11,
   "id": "9e660ff5",
   "metadata": {},
   "outputs": [
    {
     "data": {
      "text/plain": [
       "[4, 5, 6, 7]"
      ]
     },
     "execution_count": 11,
     "metadata": {},
     "output_type": "execute_result"
    }
   ],
   "source": [
    "def add_three_list(L):\n",
    "    L3 = []\n",
    "    for x in L:\n",
    "        L3.append(x+3)\n",
    "    return L3\n",
    "\n",
    "L = [1,2,3,4]\n",
    "add_three_list(L)"
   ]
  }
 ],
 "metadata": {
  "kernelspec": {
   "display_name": "Python 3 (ipykernel)",
   "language": "python",
   "name": "python3"
  },
  "language_info": {
   "codemirror_mode": {
    "name": "ipython",
    "version": 3
   },
   "file_extension": ".py",
   "mimetype": "text/x-python",
   "name": "python",
   "nbconvert_exporter": "python",
   "pygments_lexer": "ipython3",
   "version": "3.9.7"
  }
 },
 "nbformat": 4,
 "nbformat_minor": 5
}
